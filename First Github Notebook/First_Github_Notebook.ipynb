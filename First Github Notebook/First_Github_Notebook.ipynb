{
  "nbformat": 4,
  "nbformat_minor": 0,
  "metadata": {
    "colab": {
      "name": "First Github Notebook.ipynb",
      "provenance": [],
      "authorship_tag": "ABX9TyMVyECl9LkapPbI22CL4JKO",
      "include_colab_link": true
    },
    "kernelspec": {
      "name": "python3",
      "display_name": "Python 3"
    }
  },
  "cells": [
    {
      "cell_type": "markdown",
      "metadata": {
        "id": "view-in-github",
        "colab_type": "text"
      },
      "source": [
        "<a href=\"https://colab.research.google.com/github/andrewixl/IST-250/blob/master/First%20Github%20Notebook/First_Github_Notebook.ipynb\" target=\"_parent\"><img src=\"https://colab.research.google.com/assets/colab-badge.svg\" alt=\"Open In Colab\"/></a>"
      ]
    },
    {
      "cell_type": "markdown",
      "metadata": {
        "id": "S_tZm7t6SwKa",
        "colab_type": "text"
      },
      "source": [
        "###Do you like using Jupyter Notebooks?\n"
      ]
    },
    {
      "cell_type": "markdown",
      "metadata": {
        "id": "xD0WKryfS3q3",
        "colab_type": "text"
      },
      "source": [
        "I do enjoy using Jupyter Notebooks. I have used them in the past in your IST class as well as on other projects."
      ]
    },
    {
      "cell_type": "markdown",
      "metadata": {
        "id": "vc0SSVjaS32d",
        "colab_type": "text"
      },
      "source": [
        "###What do you want to learn more about in Jupyter Notebooks\n"
      ]
    },
    {
      "cell_type": "markdown",
      "metadata": {
        "id": "tXyPiRa3S4Km",
        "colab_type": "text"
      },
      "source": [
        "There is nothing in particular I would like to learn about in Jupyter Notebooks. Though if I do learn something new, I will enjoy learning about it."
      ]
    },
    {
      "cell_type": "markdown",
      "metadata": {
        "id": "NUrn2VdAVw-M",
        "colab_type": "text"
      },
      "source": [
        "###Picture"
      ]
    },
    {
      "cell_type": "markdown",
      "metadata": {
        "id": "q4ZoJYKtV0_x",
        "colab_type": "text"
      },
      "source": [
        "![](https://github.com/andrewixl/IST-250/blob/master/First%20Github%20Notebook/back_to_the_future_by_rcorron-d33g43h.jpg?raw=true)"
      ]
    }
  ]
}